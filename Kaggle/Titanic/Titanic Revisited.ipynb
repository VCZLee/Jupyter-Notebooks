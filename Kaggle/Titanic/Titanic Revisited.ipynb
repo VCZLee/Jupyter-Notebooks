{
 "cells": [
  {
   "cell_type": "code",
   "execution_count": 2,
   "metadata": {},
   "outputs": [
    {
     "name": "stdout",
     "output_type": "stream",
     "text": [
      "(891, 12)\n(418, 12)\n(1309, 12)\n"
     ]
    }
   ],
   "source": [
    "import pandas as pd\n",
    "train = pd.DataFrame.from_csv('C:/Users/Jintoboy/PycharmProjects/Jupyter-Notebooks/Kaggle/Titanic/Data/train.csv', index_col = None)\n",
    "print(train.shape)\n",
    "survival = pd.DataFrame.from_csv('C:/Users/Jintoboy/PycharmProjects/Jupyter-Notebooks/Kaggle/Titanic/Data/gender_submission.csv', index_col = None)\n",
    "test = pd.DataFrame.from_csv('C:/Users/Jintoboy/PycharmProjects/Jupyter-Notebooks/Kaggle/Titanic/Data/test.csv', index_col = None)\n",
    "test = survival.merge(test, on='PassengerId')\n",
    "print(test.shape)\n",
    "train = train.append(test, ignore_index=True)\n",
    "print(train.shape)"
   ]
  },
  {
   "cell_type": "code",
   "execution_count": null,
   "metadata": {},
   "outputs": [],
   "source": []
  }
 ],
 "metadata": {
  "kernelspec": {
   "display_name": "Python 2",
   "language": "python",
   "name": "python2"
  },
  "language_info": {
   "codemirror_mode": {
    "name": "ipython",
    "version": 2
   },
   "file_extension": ".py",
   "mimetype": "text/x-python",
   "name": "python",
   "nbconvert_exporter": "python",
   "pygments_lexer": "ipython2",
   "version": "2.7.6"
  }
 },
 "nbformat": 4,
 "nbformat_minor": 0
}
