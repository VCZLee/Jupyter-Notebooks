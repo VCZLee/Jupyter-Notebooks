{
 "cells": [
  {
   "cell_type": "markdown",
   "metadata": {},
   "source": [
    "# Kaggle Competition: Digit Recognizer with MNIST\n",
    "https://www.kaggle.com/c/digit-recognizer\n",
    "\n",
    "I've got some experience coding and using tensorflow at this point, but I've only done regression problems. I'd like to try my hand at my first computer vision/classification problem, and build my first convolutional neural network in tensorflow. \n",
    "\n",
    "### Setup\n",
    "Let's begin the setup by importing the necesary libraries and datasets."
   ]
  },
  {
   "cell_type": "code",
   "execution_count": 1,
   "metadata": {},
   "outputs": [],
   "source": [
    "import pandas as pd\n",
    "import numpy as np\n",
    "import tensorflow as tf\n",
    "import matplotlib.pyplot as plt\n",
    "import math as m\n",
    "import os\n",
    "import hashlib\n",
    "from sklearn.preprocessing import OneHotEncoder\n",
    "from sklearn.metrics import accuracy_score, f1_score, confusion_matrix\n",
    "from sklearn.naive_bayes import BernoulliNB, GaussianNB\n",
    "from sklearn.neighbors import KNeighborsClassifier\n",
    "from sklearn.linear_model import RidgeClassifier\n",
    "from sklearn.tree import DecisionTreeClassifier\n",
    "from sklearn.svm import LinearSVC, SVC\n",
    "from sklearn.ensemble import RandomForestClassifier, GradientBoostingClassifier, AdaBoostClassifier\n",
    "from IPython.core.interactiveshell import InteractiveShell\n",
    "\n",
    "InteractiveShell.ast_node_interactivity = \"all\"\n",
    "pd.options.display.float_format = '{:.5f}'.format\n",
    "\n",
    "filepath = os.path.join(os.getcwd(),\"Data\")\n",
    "\n",
    "dataset = pd.read_csv(os.path.join(filepath,\"train.csv\"), index_col = None)\n",
    "test = pd.read_csv(os.path.join(filepath,\"test.csv\"), index_col = None)"
   ]
  },
  {
   "cell_type": "markdown",
   "metadata": {},
   "source": [
    "### Data exploration and cleanup\n",
    "\n",
    "We'll take a look at the datasets and the columns and check if there are any missing labels in the dataset."
   ]
  },
  {
   "cell_type": "code",
   "execution_count": 2,
   "metadata": {},
   "outputs": [
    {
     "data": {
      "text/plain": [
       "'Training Dataset Size (Rows, Columns): (42000, 785)'"
      ]
     },
     "execution_count": 2,
     "metadata": {},
     "output_type": "execute_result"
    },
    {
     "data": {
      "text/plain": [
       "'Testing Dataset Size (Rows, Columns): (28000, 784)'"
      ]
     },
     "execution_count": 2,
     "metadata": {},
     "output_type": "execute_result"
    },
    {
     "data": {
      "text/html": [
       "<div>\n",
       "<style scoped>\n",
       "    .dataframe tbody tr th:only-of-type {\n",
       "        vertical-align: middle;\n",
       "    }\n",
       "\n",
       "    .dataframe tbody tr th {\n",
       "        vertical-align: top;\n",
       "    }\n",
       "\n",
       "    .dataframe thead th {\n",
       "        text-align: right;\n",
       "    }\n",
       "</style>\n",
       "<table border=\"1\" class=\"dataframe\">\n",
       "  <thead>\n",
       "    <tr style=\"text-align: right;\">\n",
       "      <th></th>\n",
       "      <th>label</th>\n",
       "      <th>pixel0</th>\n",
       "      <th>pixel1</th>\n",
       "      <th>pixel2</th>\n",
       "      <th>pixel3</th>\n",
       "      <th>pixel4</th>\n",
       "      <th>pixel5</th>\n",
       "      <th>pixel6</th>\n",
       "      <th>pixel7</th>\n",
       "      <th>pixel8</th>\n",
       "      <th>...</th>\n",
       "      <th>pixel774</th>\n",
       "      <th>pixel775</th>\n",
       "      <th>pixel776</th>\n",
       "      <th>pixel777</th>\n",
       "      <th>pixel778</th>\n",
       "      <th>pixel779</th>\n",
       "      <th>pixel780</th>\n",
       "      <th>pixel781</th>\n",
       "      <th>pixel782</th>\n",
       "      <th>pixel783</th>\n",
       "    </tr>\n",
       "  </thead>\n",
       "  <tbody>\n",
       "    <tr>\n",
       "      <th>0</th>\n",
       "      <td>1</td>\n",
       "      <td>0</td>\n",
       "      <td>0</td>\n",
       "      <td>0</td>\n",
       "      <td>0</td>\n",
       "      <td>0</td>\n",
       "      <td>0</td>\n",
       "      <td>0</td>\n",
       "      <td>0</td>\n",
       "      <td>0</td>\n",
       "      <td>...</td>\n",
       "      <td>0</td>\n",
       "      <td>0</td>\n",
       "      <td>0</td>\n",
       "      <td>0</td>\n",
       "      <td>0</td>\n",
       "      <td>0</td>\n",
       "      <td>0</td>\n",
       "      <td>0</td>\n",
       "      <td>0</td>\n",
       "      <td>0</td>\n",
       "    </tr>\n",
       "    <tr>\n",
       "      <th>1</th>\n",
       "      <td>0</td>\n",
       "      <td>0</td>\n",
       "      <td>0</td>\n",
       "      <td>0</td>\n",
       "      <td>0</td>\n",
       "      <td>0</td>\n",
       "      <td>0</td>\n",
       "      <td>0</td>\n",
       "      <td>0</td>\n",
       "      <td>0</td>\n",
       "      <td>...</td>\n",
       "      <td>0</td>\n",
       "      <td>0</td>\n",
       "      <td>0</td>\n",
       "      <td>0</td>\n",
       "      <td>0</td>\n",
       "      <td>0</td>\n",
       "      <td>0</td>\n",
       "      <td>0</td>\n",
       "      <td>0</td>\n",
       "      <td>0</td>\n",
       "    </tr>\n",
       "    <tr>\n",
       "      <th>2</th>\n",
       "      <td>1</td>\n",
       "      <td>0</td>\n",
       "      <td>0</td>\n",
       "      <td>0</td>\n",
       "      <td>0</td>\n",
       "      <td>0</td>\n",
       "      <td>0</td>\n",
       "      <td>0</td>\n",
       "      <td>0</td>\n",
       "      <td>0</td>\n",
       "      <td>...</td>\n",
       "      <td>0</td>\n",
       "      <td>0</td>\n",
       "      <td>0</td>\n",
       "      <td>0</td>\n",
       "      <td>0</td>\n",
       "      <td>0</td>\n",
       "      <td>0</td>\n",
       "      <td>0</td>\n",
       "      <td>0</td>\n",
       "      <td>0</td>\n",
       "    </tr>\n",
       "  </tbody>\n",
       "</table>\n",
       "<p>3 rows × 785 columns</p>\n",
       "</div>"
      ],
      "text/plain": [
       "   label  pixel0  pixel1  pixel2  pixel3  pixel4  pixel5  pixel6  pixel7  \\\n",
       "0      1       0       0       0       0       0       0       0       0   \n",
       "1      0       0       0       0       0       0       0       0       0   \n",
       "2      1       0       0       0       0       0       0       0       0   \n",
       "\n",
       "   pixel8    ...     pixel774  pixel775  pixel776  pixel777  pixel778  \\\n",
       "0       0    ...            0         0         0         0         0   \n",
       "1       0    ...            0         0         0         0         0   \n",
       "2       0    ...            0         0         0         0         0   \n",
       "\n",
       "   pixel779  pixel780  pixel781  pixel782  pixel783  \n",
       "0         0         0         0         0         0  \n",
       "1         0         0         0         0         0  \n",
       "2         0         0         0         0         0  \n",
       "\n",
       "[3 rows x 785 columns]"
      ]
     },
     "execution_count": 2,
     "metadata": {},
     "output_type": "execute_result"
    },
    {
     "data": {
      "text/html": [
       "<div>\n",
       "<style scoped>\n",
       "    .dataframe tbody tr th:only-of-type {\n",
       "        vertical-align: middle;\n",
       "    }\n",
       "\n",
       "    .dataframe tbody tr th {\n",
       "        vertical-align: top;\n",
       "    }\n",
       "\n",
       "    .dataframe thead th {\n",
       "        text-align: right;\n",
       "    }\n",
       "</style>\n",
       "<table border=\"1\" class=\"dataframe\">\n",
       "  <thead>\n",
       "    <tr style=\"text-align: right;\">\n",
       "      <th></th>\n",
       "      <th>pixel0</th>\n",
       "      <th>pixel1</th>\n",
       "      <th>pixel2</th>\n",
       "      <th>pixel3</th>\n",
       "      <th>pixel4</th>\n",
       "      <th>pixel5</th>\n",
       "      <th>pixel6</th>\n",
       "      <th>pixel7</th>\n",
       "      <th>pixel8</th>\n",
       "      <th>pixel9</th>\n",
       "      <th>...</th>\n",
       "      <th>pixel774</th>\n",
       "      <th>pixel775</th>\n",
       "      <th>pixel776</th>\n",
       "      <th>pixel777</th>\n",
       "      <th>pixel778</th>\n",
       "      <th>pixel779</th>\n",
       "      <th>pixel780</th>\n",
       "      <th>pixel781</th>\n",
       "      <th>pixel782</th>\n",
       "      <th>pixel783</th>\n",
       "    </tr>\n",
       "  </thead>\n",
       "  <tbody>\n",
       "    <tr>\n",
       "      <th>0</th>\n",
       "      <td>0</td>\n",
       "      <td>0</td>\n",
       "      <td>0</td>\n",
       "      <td>0</td>\n",
       "      <td>0</td>\n",
       "      <td>0</td>\n",
       "      <td>0</td>\n",
       "      <td>0</td>\n",
       "      <td>0</td>\n",
       "      <td>0</td>\n",
       "      <td>...</td>\n",
       "      <td>0</td>\n",
       "      <td>0</td>\n",
       "      <td>0</td>\n",
       "      <td>0</td>\n",
       "      <td>0</td>\n",
       "      <td>0</td>\n",
       "      <td>0</td>\n",
       "      <td>0</td>\n",
       "      <td>0</td>\n",
       "      <td>0</td>\n",
       "    </tr>\n",
       "    <tr>\n",
       "      <th>1</th>\n",
       "      <td>0</td>\n",
       "      <td>0</td>\n",
       "      <td>0</td>\n",
       "      <td>0</td>\n",
       "      <td>0</td>\n",
       "      <td>0</td>\n",
       "      <td>0</td>\n",
       "      <td>0</td>\n",
       "      <td>0</td>\n",
       "      <td>0</td>\n",
       "      <td>...</td>\n",
       "      <td>0</td>\n",
       "      <td>0</td>\n",
       "      <td>0</td>\n",
       "      <td>0</td>\n",
       "      <td>0</td>\n",
       "      <td>0</td>\n",
       "      <td>0</td>\n",
       "      <td>0</td>\n",
       "      <td>0</td>\n",
       "      <td>0</td>\n",
       "    </tr>\n",
       "    <tr>\n",
       "      <th>2</th>\n",
       "      <td>0</td>\n",
       "      <td>0</td>\n",
       "      <td>0</td>\n",
       "      <td>0</td>\n",
       "      <td>0</td>\n",
       "      <td>0</td>\n",
       "      <td>0</td>\n",
       "      <td>0</td>\n",
       "      <td>0</td>\n",
       "      <td>0</td>\n",
       "      <td>...</td>\n",
       "      <td>0</td>\n",
       "      <td>0</td>\n",
       "      <td>0</td>\n",
       "      <td>0</td>\n",
       "      <td>0</td>\n",
       "      <td>0</td>\n",
       "      <td>0</td>\n",
       "      <td>0</td>\n",
       "      <td>0</td>\n",
       "      <td>0</td>\n",
       "    </tr>\n",
       "  </tbody>\n",
       "</table>\n",
       "<p>3 rows × 784 columns</p>\n",
       "</div>"
      ],
      "text/plain": [
       "   pixel0  pixel1  pixel2  pixel3  pixel4  pixel5  pixel6  pixel7  pixel8  \\\n",
       "0       0       0       0       0       0       0       0       0       0   \n",
       "1       0       0       0       0       0       0       0       0       0   \n",
       "2       0       0       0       0       0       0       0       0       0   \n",
       "\n",
       "   pixel9    ...     pixel774  pixel775  pixel776  pixel777  pixel778  \\\n",
       "0       0    ...            0         0         0         0         0   \n",
       "1       0    ...            0         0         0         0         0   \n",
       "2       0    ...            0         0         0         0         0   \n",
       "\n",
       "   pixel779  pixel780  pixel781  pixel782  pixel783  \n",
       "0         0         0         0         0         0  \n",
       "1         0         0         0         0         0  \n",
       "2         0         0         0         0         0  \n",
       "\n",
       "[3 rows x 784 columns]"
      ]
     },
     "execution_count": 2,
     "metadata": {},
     "output_type": "execute_result"
    },
    {
     "data": {
      "text/plain": [
       "'There are 0 missing labels in the training dataset.'"
      ]
     },
     "execution_count": 2,
     "metadata": {},
     "output_type": "execute_result"
    },
    {
     "data": {
      "text/plain": [
       "'There are 0 missing labels in the testing dataset.'"
      ]
     },
     "execution_count": 2,
     "metadata": {},
     "output_type": "execute_result"
    }
   ],
   "source": [
    "\"Training Dataset Size (Rows, Columns): \" + str(dataset.shape)\n",
    "\"Testing Dataset Size (Rows, Columns): \" + str(test.shape)\n",
    "dataset.head(n=3)\n",
    "test.head(n=3)\n",
    "\n",
    "\"There are \" + str(dataset.isnull().sum().sum()) + \" missing labels in the training dataset.\"\n",
    "\"There are \" + str(test.isnull().sum().sum()) + \" missing labels in the testing dataset.\""
   ]
  },
  {
   "cell_type": "markdown",
   "metadata": {},
   "source": [
    "There are no missing labels in both the training dataset and the testing dataset.\n",
    "\n",
    "Let's examine the pixel columns. \n",
    "\n",
    "According to https://www.kaggle.com/c/digit-recognizer/data , the images are 28 x 28 pixel (784 pixels in total) grayscale images of handwritten digits, \"0\" through \"9\". The first column in the training set is the actual handwritten digit, whereas the testing dataset lacks the actual digit label. That's for us to guess! \n",
    "\n",
    "The first 28 pixel columns (columns 000 to 027) are of the darkness levels (0 being white, and 255 being completely black) of the top most row of 28 pixels. Columns 028 to 055 are the second row from the top's darkness levels, and so on. \n",
    "\n",
    "\n",
    "### Checking for class imbalance\n",
    "\n",
    "One thing to worry about that is unique to classification problems is class imbalance, where one class (or in this case, digit) is under or overrepresented in the dataset. If we have 99% \"3's\" and the remaining 1% are the remaining digits, a \"dumb\" classifier that guesses \"3\" for every image given, would have 99% correct classifications right off the bat. We'll check for any class imbalances in the training dataset."
   ]
  },
  {
   "cell_type": "code",
   "execution_count": 3,
   "metadata": {},
   "outputs": [
    {
     "data": {
      "text/html": [
       "<div>\n",
       "<style scoped>\n",
       "    .dataframe tbody tr th:only-of-type {\n",
       "        vertical-align: middle;\n",
       "    }\n",
       "\n",
       "    .dataframe tbody tr th {\n",
       "        vertical-align: top;\n",
       "    }\n",
       "\n",
       "    .dataframe thead th {\n",
       "        text-align: right;\n",
       "    }\n",
       "</style>\n",
       "<table border=\"1\" class=\"dataframe\">\n",
       "  <thead>\n",
       "    <tr style=\"text-align: right;\">\n",
       "      <th>Digit</th>\n",
       "      <th>Occurrences</th>\n",
       "      <th>Frequency(%)</th>\n",
       "      <th>Relative Frequency</th>\n",
       "    </tr>\n",
       "  </thead>\n",
       "  <tbody>\n",
       "    <tr>\n",
       "      <th>1</th>\n",
       "      <td>4684</td>\n",
       "      <td>11.15238</td>\n",
       "      <td>1.23426</td>\n",
       "    </tr>\n",
       "    <tr>\n",
       "      <th>7</th>\n",
       "      <td>4401</td>\n",
       "      <td>10.47857</td>\n",
       "      <td>1.15968</td>\n",
       "    </tr>\n",
       "    <tr>\n",
       "      <th>3</th>\n",
       "      <td>4351</td>\n",
       "      <td>10.35952</td>\n",
       "      <td>1.14651</td>\n",
       "    </tr>\n",
       "    <tr>\n",
       "      <th>9</th>\n",
       "      <td>4188</td>\n",
       "      <td>9.97143</td>\n",
       "      <td>1.10356</td>\n",
       "    </tr>\n",
       "    <tr>\n",
       "      <th>2</th>\n",
       "      <td>4177</td>\n",
       "      <td>9.94524</td>\n",
       "      <td>1.10066</td>\n",
       "    </tr>\n",
       "    <tr>\n",
       "      <th>6</th>\n",
       "      <td>4137</td>\n",
       "      <td>9.85000</td>\n",
       "      <td>1.09012</td>\n",
       "    </tr>\n",
       "    <tr>\n",
       "      <th>0</th>\n",
       "      <td>4132</td>\n",
       "      <td>9.83810</td>\n",
       "      <td>1.08880</td>\n",
       "    </tr>\n",
       "    <tr>\n",
       "      <th>4</th>\n",
       "      <td>4072</td>\n",
       "      <td>9.69524</td>\n",
       "      <td>1.07299</td>\n",
       "    </tr>\n",
       "    <tr>\n",
       "      <th>8</th>\n",
       "      <td>4063</td>\n",
       "      <td>9.67381</td>\n",
       "      <td>1.07062</td>\n",
       "    </tr>\n",
       "    <tr>\n",
       "      <th>5</th>\n",
       "      <td>3795</td>\n",
       "      <td>9.03571</td>\n",
       "      <td>1.00000</td>\n",
       "    </tr>\n",
       "  </tbody>\n",
       "</table>\n",
       "</div>"
      ],
      "text/plain": [
       "Digit  Occurrences  Frequency(%)  Relative Frequency\n",
       "1             4684      11.15238             1.23426\n",
       "7             4401      10.47857             1.15968\n",
       "3             4351      10.35952             1.14651\n",
       "9             4188       9.97143             1.10356\n",
       "2             4177       9.94524             1.10066\n",
       "6             4137       9.85000             1.09012\n",
       "0             4132       9.83810             1.08880\n",
       "4             4072       9.69524             1.07299\n",
       "8             4063       9.67381             1.07062\n",
       "5             3795       9.03571             1.00000"
      ]
     },
     "execution_count": 3,
     "metadata": {},
     "output_type": "execute_result"
    }
   ],
   "source": [
    "digit_counts = dataset[\"label\"].value_counts().to_frame()\n",
    "digit_counts.columns = [\"Occurrences\"]\n",
    "digit_counts.columns.name = \"Digit\"\n",
    "digit_counts[\"Frequency(%)\"] = (digit_counts[\"Occurrences\"]/digit_counts[\"Occurrences\"].sum())*100\n",
    "digit_counts[\"Relative Frequency\"] = digit_counts[\"Occurrences\"]/digit_counts[\"Occurrences\"].min()\n",
    "digit_counts"
   ]
  },
  {
   "cell_type": "markdown",
   "metadata": {},
   "source": [
    "While not a perfect 1/10 split amongst all the digits, this imbalance is minor, with the most common class, \"1\", appearing only 1.234 times as much as the least frequent class, \"5\".\n",
    "\n",
    "### Prepping the Data\n",
    "\n",
    "Let's seperate our training dataset into a training and validation set. The training set is used to fit the models, and the validation set is used to adjust the hyperparamters (variables that are preset and not adjusted during the training process) to achieve the best fit. \n",
    "\n",
    "We'll split the dataset based on the hash of the dataframe's index. "
   ]
  },
  {
   "cell_type": "code",
   "execution_count": 4,
   "metadata": {},
   "outputs": [
    {
     "data": {
      "text/plain": [
       "'20.00952% of the training set has been designated as the validation set'"
      ]
     },
     "execution_count": 4,
     "metadata": {},
     "output_type": "execute_result"
    }
   ],
   "source": [
    "def test_split(id, seed, test_proportion):\n",
    "    if type(test_proportion) not in [float, int] or test_proportion > 1 or test_proportion < 0:\n",
    "        raise ValueError(\"Test proportion must be a real number between 0 and 1\")\n",
    "    test = str(id) + str(seed)\n",
    "    test_digest = hashlib.md5(test.encode(\"ascii\")).hexdigest()\n",
    "    test_hex = int(test_digest[-6:], 16) #last 6 digits only\n",
    "    split = test_hex/0xFFFFFF\n",
    "    if split > test_proportion:\n",
    "        return 0\n",
    "    else:\n",
    "        return 1\n",
    "    \n",
    "dataset['split'] = dataset.index.map(lambda x: test_split(id = x, seed = 'MNIST valid', test_proportion = 0.20))\n",
    "\n",
    "train_valid_percentage = dataset['split'].sum()/dataset.shape[0] * 100 #verify split percentage is correct\n",
    "\"{0:.5f}\".format(train_valid_percentage) + \"% of the training set has been designated as the validation set\" \n",
    "\n",
    "train, valid = dataset.loc[(dataset.split == 0)], dataset.loc[(dataset.split == 1)]\n",
    "pixel_columns = [column_name for column_name in list(train) if column_name.startswith(\"pixel\")]\n",
    "label_columns = [column_name for column_name in list(train) if column_name.startswith(\"label\")]\n",
    "train_x, train_y = train.loc[:,pixel_columns], train.loc[:,label_columns]\n",
    "valid_x, valid_y = valid.loc[:,pixel_columns], valid.loc[:,label_columns]\n",
    "\n",
    "# OneHot = OneHotEncoder(sparse = False)\n",
    "# train_y = OneHot.fit_transform(train_y)\n",
    "# valid_y = OneHot.fit_transform(valid_y)"
   ]
  },
  {
   "cell_type": "markdown",
   "metadata": {},
   "source": [
    "### Model Fitting\n",
    "\n",
    "We'll fit a variety of models to the image data, and examine their performance by using their accuracy score, the percentage of predictions that match up with their actual labels, and their F1 score, the harmonic average of precision and recall. \n",
    "\n",
    "The accuracy score is sensitive to class imbalances but it's used by kaggle to evaluate model performance, so we'll also look at the F1 score to get a less biased picture. \n",
    "\n",
    "Refresher: \n",
    "\n",
    "Precision is ratio of correct predictions for a label to all the total predictions for a label. For example, if the model says there are 1000 \"3's\" in the dataset, how many of the predicted \"3's\" are actually \"3's\"? If only 800 of the predicted \"3's\" are actually \"3's\" and the remaining 200 images are of other digits, then the precision score for the model is 0.8\n",
    "\n",
    "Recall is the ratio of correct predictions for a label to all of the actual labels in a dataset. For example, if the model correctly identifies 800 \"3's\" in the dataset out of the 1600 actual \"3's\", then the recall score for the model is 0.5."
   ]
  },
  {
   "cell_type": "code",
   "execution_count": 5,
   "metadata": {},
   "outputs": [
    {
     "data": {
      "image/png": "[encoded data removed]",
      "text/plain": [
       "<Figure size 432x288 with 1 Axes>"
      ]
     },
     "metadata": {},
     "output_type": "display_data"
    },
    {
     "data": {
      "image/png": "[encoded data removed]",
      "text/plain": [
       "<Figure size 432x288 with 1 Axes>"
      ]
     },
     "metadata": {},
     "output_type": "display_data"
    },
    {
     "data": {
      "image/png": "[encoded data removed]",
      "text/plain": [
       "<Figure size 432x288 with 1 Axes>"
      ]
     },
     "metadata": {},
     "output_type": "display_data"
    }
   ],
   "source": [
    "binaryNB_accuracy_history = [];\n",
    "binaryNB_f1_history = [];\n",
    "for i in range(0,255):\n",
    "    binaryNB = BernoulliNB(binarize = i+0.5).fit(train_x,train_y.values.ravel());\n",
    "    binaryNB_valid = binaryNB.predict(valid_x);\n",
    "    binaryNB_accuracy_history.append(accuracy_score(binaryNB_valid, valid_y));\n",
    "    binaryNB_f1_history.append(f1_score(binaryNB_valid, valid_y, average = 'macro'));\n",
    "    \n",
    "plt.plot(np.arange(0,255)+0.5,binaryNB_accuracy_history,'b');\n",
    "plt.plot(np.arange(0,255)+0.5,binaryNB_f1_history,'r');\n",
    "plt.title(\"Accuracy(Blue) vs F1 Score(Red): all thresholds\");\n",
    "plt.xlabel(\"Threshold\");\n",
    "plt.ylabel(\"Score\");\n",
    "plt.show();\n",
    "\n",
    "plt.plot(np.arange(0,250)+0.5,binaryNB_accuracy_history[:-5],'b');\n",
    "plt.plot(np.arange(0,250)+0.5,binaryNB_f1_history[:-5],'r');\n",
    "plt.title(\"Accuracy(Blue) vs F1 Score(Red): 0.5 to 249.5\");\n",
    "plt.xlabel(\"Threshold\");\n",
    "plt.ylabel(\"Score\");\n",
    "plt.show();\n",
    "\n",
    "plt.plot(np.arange(0,150)+0.5,binaryNB_accuracy_history[:-105],'b');\n",
    "plt.plot(np.arange(0,150)+0.5,binaryNB_f1_history[:-105],'r');\n",
    "plt.title(\"Accuracy(Blue) vs F1 Score(Red): 0.5 to 145.5\");\n",
    "plt.xlabel(\"Threshold\");\n",
    "plt.ylabel(\"Score\");\n",
    "plt.show();"
   ]
  },
  {
   "cell_type": "code",
   "execution_count": 6,
   "metadata": {},
   "outputs": [
    {
     "data": {
      "text/plain": [
       "'Accuracy on the validation set is maximized with a threshold of 53.5'"
      ]
     },
     "execution_count": 6,
     "metadata": {},
     "output_type": "execute_result"
    },
    {
     "data": {
      "text/plain": [
       "'F1 score on the validation set is maximized with a threshold of 53.5'"
      ]
     },
     "execution_count": 6,
     "metadata": {},
     "output_type": "execute_result"
    }
   ],
   "source": [
    "max_accuracy = binaryNB_accuracy_history.index(max(binaryNB_accuracy_history))+0.5;\n",
    "max_f1 = binaryNB_f1_history.index(max(binaryNB_f1_history))+0.5;\n",
    "\"Accuracy on the validation set is maximized with a threshold of \" + str(max_accuracy)\n",
    "\"F1 score on the validation set is maximized with a threshold of \" + str(max_f1)"
   ]
  },
  {
   "cell_type": "code",
   "execution_count": 7,
   "metadata": {},
   "outputs": [
    {
     "data": {
      "text/plain": [
       "'Bernoulli Naive Bayes has an accuracy score of 0.839362'"
      ]
     },
     "execution_count": 7,
     "metadata": {},
     "output_type": "execute_result"
    },
    {
     "data": {
      "text/plain": [
       "'Bernoulli Naive Bayes has an F1 score of 0.838059'"
      ]
     },
     "execution_count": 7,
     "metadata": {},
     "output_type": "execute_result"
    },
    {
     "data": {
      "text/plain": [
       "'Gaussian Naive Bayes has an accuracy score of 0.551166'"
      ]
     },
     "execution_count": 7,
     "metadata": {},
     "output_type": "execute_result"
    },
    {
     "data": {
      "text/plain": [
       "'Gaussian Naive Bayes has an F1 score of 0.497364'"
      ]
     },
     "execution_count": 7,
     "metadata": {},
     "output_type": "execute_result"
    }
   ],
   "source": [
    "binaryNB = BernoulliNB(binarize = 53.5).fit(train_x,train_y.values.ravel())\n",
    "binaryNB_valid = binaryNB.predict(valid_x)\n",
    "\"Bernoulli Naive Bayes has an accuracy score of \" + \"{0:.6f}\".format(accuracy_score(binaryNB_valid, valid_y))\n",
    "\"Bernoulli Naive Bayes has an F1 score of \" + \"{0:.6f}\".format(f1_score(binaryNB_valid, valid_y, average = 'macro'))\n",
    "# confusion_matrix(valid_y, binaryNB_valid)\n",
    "\n",
    "gaussNB = GaussianNB().fit(train_x,train_y.values.ravel())\n",
    "gaussNB_valid = gaussNB.predict(valid_x)\n",
    "\"Gaussian Naive Bayes has an accuracy score of \" + \"{0:.6f}\".format(accuracy_score(gaussNB_valid, valid_y))\n",
    "\"Gaussian Naive Bayes has an F1 score of \" + \"{0:.6f}\".format(f1_score(gaussNB_valid, valid_y, average = 'macro'))\n",
    "# confusion_matrix(valid_y, gaussNB_valid)"
   ]
  },
  {
   "cell_type": "code",
   "execution_count": 8,
   "metadata": {},
   "outputs": [
    {
     "data": {
      "text/plain": [
       "'Ridge Regression has an accuracy score of 0.849952'"
      ]
     },
     "execution_count": 8,
     "metadata": {},
     "output_type": "execute_result"
    },
    {
     "data": {
      "text/plain": [
       "'Ridge Regression has an F1 score of 0.846943'"
      ]
     },
     "execution_count": 8,
     "metadata": {},
     "output_type": "execute_result"
    }
   ],
   "source": [
    "ridge = RidgeClassifier(max_iter=1000).fit(train_x,train_y.values.ravel())\n",
    "ridge_valid = ridge.predict(valid_x)\n",
    "\"Ridge Regression has an accuracy score of \" + \"{0:.6f}\".format(accuracy_score(ridge_valid, valid_y))\n",
    "\"Ridge Regression has an F1 score of \" + \"{0:.6f}\".format(f1_score(ridge_valid, valid_y, average = 'macro'))"
   ]
  },
  {
   "cell_type": "code",
   "execution_count": 9,
   "metadata": {},
   "outputs": [
    {
     "data": {
      "text/plain": [
       "'K-Nearest Neighbors has an accuracy score of 0.971204'"
      ]
     },
     "execution_count": 9,
     "metadata": {},
     "output_type": "execute_result"
    },
    {
     "data": {
      "text/plain": [
       "'K-Nearest Neighbors has an F1 score of 0.971019'"
      ]
     },
     "execution_count": 9,
     "metadata": {},
     "output_type": "execute_result"
    }
   ],
   "source": [
    "knn = KNeighborsClassifier(n_neighbors=4,weights='distance').fit(train_x,train_y.values.ravel())\n",
    "knn_valid = knn.predict(valid_x)\n",
    "\"K-Nearest Neighbors has an accuracy score of \" + \"{0:.6f}\".format(accuracy_score(knn_valid, valid_y))\n",
    "\"K-Nearest Neighbors has an F1 score of \" + \"{0:.6f}\".format(f1_score(knn_valid, valid_y, average = 'macro'))"
   ]
  },
  {
   "cell_type": "code",
   "execution_count": 10,
   "metadata": {},
   "outputs": [
    {
     "data": {
      "text/plain": [
       "'The Random Forest has an accuracy score of 0.951690'"
      ]
     },
     "execution_count": 10,
     "metadata": {},
     "output_type": "execute_result"
    },
    {
     "data": {
      "text/plain": [
       "'The Random Forest has an F1 score of 0.951331'"
      ]
     },
     "execution_count": 10,
     "metadata": {},
     "output_type": "execute_result"
    }
   ],
   "source": [
    "rf = RandomForestClassifier(n_estimators=100,\n",
    "                            min_samples_leaf=10,\n",
    "                            random_state=42).fit(train_x,train_y.values.ravel())\n",
    "rf_valid = rf.predict(valid_x)\n",
    "\"The Random Forest has an accuracy score of \" + \"{0:.6f}\".format(accuracy_score(rf_valid, valid_y))\n",
    "\"The Random Forest has an F1 score of \" + \"{0:.6f}\".format(f1_score(rf_valid, valid_y, average = 'macro'))"
   ]
  },
  {
   "cell_type": "code",
   "execution_count": 11,
   "metadata": {},
   "outputs": [
    {
     "data": {
      "text/plain": [
       "'The Gradient Boosted Forest has an accuracy score of 0.962399'"
      ]
     },
     "execution_count": 11,
     "metadata": {},
     "output_type": "execute_result"
    },
    {
     "data": {
      "text/plain": [
       "'The Gradient Boosted Forest has an F1 score of 0.962083'"
      ]
     },
     "execution_count": 11,
     "metadata": {},
     "output_type": "execute_result"
    }
   ],
   "source": [
    "boost = GradientBoostingClassifier(n_estimators=100,\n",
    "                                   max_depth=5,\n",
    "                                   min_samples_split=15,\n",
    "                                   random_state=42).fit(train_x,train_y.values.ravel())\n",
    "boost_valid = boost.predict(valid_x)\n",
    "\"The Gradient Boosted Forest has an accuracy score of \" + \"{0:.6f}\".format(accuracy_score(boost_valid, valid_y))\n",
    "\"The Gradient Boosted Forest has an F1 score of \" + \"{0:.6f}\".format(f1_score(boost_valid, valid_y, average = 'macro'))"
   ]
  },
  {
   "cell_type": "code",
   "execution_count": 15,
   "metadata": {},
   "outputs": [
    {
     "data": {
      "text/plain": [
       "'The AdaBoosted Forest has an accuracy score of 0.965731'"
      ]
     },
     "execution_count": 15,
     "metadata": {},
     "output_type": "execute_result"
    },
    {
     "data": {
      "text/plain": [
       "'The AdaBoosted Forest has an F1 score of 0.965450'"
      ]
     },
     "execution_count": 15,
     "metadata": {},
     "output_type": "execute_result"
    }
   ],
   "source": [
    "base_tree = DecisionTreeClassifier(max_depth=25, min_samples_split = 15)\n",
    "ada = AdaBoostClassifier(base_estimator=base_tree,n_estimators=100,random_state=42).fit(train_x,train_y.values.ravel())\n",
    "ada_valid = ada.predict(valid_x)\n",
    "\"The AdaBoosted Forest has an accuracy score of \" + \"{0:.6f}\".format(accuracy_score(ada_valid, valid_y))\n",
    "\"The AdaBoosted Forest has an F1 score of \" + \"{0:.6f}\".format(f1_score(ada_valid, valid_y, average = 'macro'))"
   ]
  },
  {
   "cell_type": "code",
   "execution_count": 13,
   "metadata": {},
   "outputs": [
    {
     "data": {
      "text/plain": [
       "'The Linear Support Vector Machine has an accuracy score of 0.845431'"
      ]
     },
     "execution_count": 13,
     "metadata": {},
     "output_type": "execute_result"
    },
    {
     "data": {
      "text/plain": [
       "'The Linear Support Vector Machine has an F1 score of 0.842538'"
      ]
     },
     "execution_count": 13,
     "metadata": {},
     "output_type": "execute_result"
    }
   ],
   "source": [
    "linsvm = LinearSVC().fit(train_x,train_y.values.ravel())\n",
    "linsvm_valid = linsvm.predict(valid_x)\n",
    "\"The Linear Support Vector Machine has an accuracy score of \" + \"{0:.6f}\".format(accuracy_score(linsvm_valid, valid_y))\n",
    "\"The Linear Support Vector Machine has an F1 score of \" + \"{0:.6f}\".format(f1_score(linsvm_valid, valid_y, average = 'macro'))"
   ]
  },
  {
   "cell_type": "code",
   "execution_count": 14,
   "metadata": {},
   "outputs": [
    {
     "data": {
      "text/plain": [
       "'The Kernel Support Vector Machine has an accuracy score of 0.982627'"
      ]
     },
     "execution_count": 14,
     "metadata": {},
     "output_type": "execute_result"
    },
    {
     "data": {
      "text/plain": [
       "'The Kernel Support Vector Machine has an F1 score of 0.982491'"
      ]
     },
     "execution_count": 14,
     "metadata": {},
     "output_type": "execute_result"
    }
   ],
   "source": [
    "# np.random.seed(945)\n",
    "# random_rows = np.random.choice(train_x.shape[0], 15000, replace=False)\n",
    "# kernsvm = SVC(C=5, gamma = 0.0000005).fit(train_x.iloc[random_rows,:],train_y.iloc[random_rows,:].values.ravel())\n",
    "kernsvm = SVC(C=5, gamma = 0.0000005).fit(train_x,train_y.values.ravel())\n",
    "kernsvm_valid = kernsvm.predict(valid_x)\n",
    "\"The Kernel Support Vector Machine has an accuracy score of \" + \"{0:.6f}\".format(accuracy_score(kernsvm_valid, valid_y))\n",
    "\"The Kernel Support Vector Machine has an F1 score of \" + \"{0:.6f}\".format(f1_score(kernsvm_valid, valid_y, average = 'macro'))"
   ]
  }
 ],
 "metadata": {
  "kernelspec": {
   "display_name": "Python 3",
   "language": "python",
   "name": "python3"
  },
  "language_info": {
   "codemirror_mode": {
    "name": "ipython",
    "version": 3
   },
   "file_extension": ".py",
   "mimetype": "text/x-python",
   "name": "python",
   "nbconvert_exporter": "python",
   "pygments_lexer": "ipython3",
   "version": "3.6.5"
  }
 },
 "nbformat": 4,
 "nbformat_minor": 2
}
